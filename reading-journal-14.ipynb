{
 "cells": [
  {
   "cell_type": "markdown",
   "metadata": {},
   "source": [
    "# Day 14 Reading Journal\n",
    "\n",
    "Read _Think Python_, [Chapter 18](http://www.greenteapress.com/thinkpython2/html/thinkpython2019.html)\n"
   ]
  },
  {
   "cell_type": "markdown",
   "metadata": {},
   "source": [
    "## [Chapter 18](http://www.greenteapress.com/thinkpython2/html/thinkpython2019.html)\n",
    "\n",
    "The exercises writing class methods as in this chapter have a large amount of supporting code. It may be more natural for you to do your development in a text editor/at the command line and you are welcome to do so, but please paste your solutions back in the notebook for submission when you're done.\n",
    "\n",
    "### Inheritance Example: 2D Geometry\n",
    "\n",
    "The classes below represent simple two dimensional shapes.  Currently the only supported functionality is `area`, but more could be added.\n",
    "\n",
    "In this Reading Journal you will practice refactoring a set of classes using inheritance. Try drawing a class diagram before you start writing code to plan which shape classes should inherit from which.\n"
   ]
  },
  {
   "cell_type": "code",
   "execution_count": 2,
   "metadata": {
    "solution": "Exercise 18.3"
   },
   "outputs": [
    {
     "data": {
      "text/plain": [
       "TestResults(failed=0, attempted=8)"
      ]
     },
     "execution_count": 2,
     "metadata": {},
     "output_type": "execute_result"
    }
   ],
   "source": [
    "class Rectangle:\n",
    "    \"\"\" Represents a rectangle in 2D \"\"\"\n",
    "\n",
    "    def __init__(self, x1, y1, width, height):\n",
    "        \"\"\" Initialize a rectangle from the upper left corner vertex and\n",
    "            its width and height.\n",
    "            \n",
    "            x1: x-coordinate of the upper left corner of the rectangle\n",
    "            y1: y-coordinate of the upper left corner of the rectangle\n",
    "            width: width of the rectangle\n",
    "            height: height of the rectangle\n",
    "        \"\"\"\n",
    "        self.x1 = x1\n",
    "        self.y1 = y1\n",
    "        self.width = width\n",
    "        self.height = height\n",
    "    \n",
    "    def area(self):\n",
    "        \"\"\"\n",
    "        >>> r = Rectangle(1.0, 3.0, 100.0, 50.0)\n",
    "        >>> r.area()\n",
    "        5000.0\n",
    "        \"\"\"\n",
    "        return self.width*self.height\n",
    "\n",
    "class Triangle:\n",
    "    \"\"\" Represents a triangle in 2D \"\"\"\n",
    "\n",
    "    def __init__(self, x1, y1, x2, y2, x3, y3):\n",
    "        \"\"\" Initialize a triangle from its three vertices.  The vertices\n",
    "            are assumed to be in counterclockwise order.\n",
    "            \n",
    "            x1: x-coordinate of the first vertex of the triangle\n",
    "            y1: y-coordinate of the first vertex of the triangle\n",
    "            x2: x-coordinate of the second vertex of the triangle\n",
    "            y2: y-coordinate of the second vertex of the triangle\n",
    "            x3: x-coordinate of the third vertex of the triangle\n",
    "            y3: y-coordinate of the third vertex of the triangle\n",
    "        \"\"\"\n",
    "        self.x1 = x1\n",
    "        self.y1 = y1\n",
    "        self.x2 = x2\n",
    "        self.y2 = y2\n",
    "        self.x3 = x3\n",
    "        self.y3 = y3\n",
    "    \n",
    "    def area(self):\n",
    "        \"\"\"\n",
    "        >>> t = Triangle(0.0, 0.0, 10.0, 0.0, 0.0, 5.0)\n",
    "        >>> t.area()\n",
    "        25.0\n",
    "        \"\"\"\n",
    "        # using formula from http://mathworld.wolfram.com/TriangleArea.html\n",
    "        return 0.5*(-self.x2*self.y1 +\n",
    "                    self.x3*self.y1 +\n",
    "                    self.x1*self.y2 -\n",
    "                    self.x3*self.y2 -\n",
    "                    self.x1*self.y3 +\n",
    "                    self.x2*self.y3)\n",
    "\n",
    "class Square:\n",
    "    \"\"\" Represents a square in 2D \"\"\"\n",
    "\n",
    "    def __init__(self, x1, y1, side_length):\n",
    "        \"\"\" Initialize a square from the upper left corner vertex and\n",
    "            its side length.\n",
    "            \n",
    "            x1: x-coordinate of the upper left corner of the rectangle\n",
    "            y1: y-coordinate of the upper left corner of the rectangle\n",
    "            side_length: side length of the square\n",
    "        \"\"\"\n",
    "        self.x1 = x1\n",
    "        self.y1 = y1\n",
    "        self.side_length = side_length\n",
    "    \n",
    "    def area(self):\n",
    "        \"\"\"\n",
    "        >>> s = Square(1.0, 3.0, 50.0)\n",
    "        >>> s.area()\n",
    "        2500.0\n",
    "        \"\"\"\n",
    "        return self.side_length**2\n",
    "\n",
    "class Polygon:\n",
    "    \"\"\" Represents a polygon in 2D \"\"\"\n",
    "    def __init__(self, vertices):\n",
    "        \"\"\" Initialize a polygon from a list of vertices, where each\n",
    "            vertex is represented as an (x, y) tuple.\n",
    "            \n",
    "            vertices: the vertices of the polygone (note: vertices\n",
    "                      are assumed to be in counterclockwise order \"\"\"\n",
    "        self.vertices = vertices\n",
    "    \n",
    "    def area(self):\n",
    "        \"\"\"\n",
    "        >>> p = Polygon([(0, 0), (200, 0), (200, 300), (0, 300)])\n",
    "        >>> p.area()\n",
    "        60000.0\n",
    "        \"\"\"\n",
    "        # Using formula from http://mathworld.wolfram.com/PolygonArea.html\n",
    "        area = 0.0\n",
    "        for i, v_i in enumerate(self.vertices):\n",
    "            v_i_plus_1 = self.vertices[(i+1) % len(self.vertices)]\n",
    "            area += 0.5*(v_i[0]*v_i_plus_1[1] - v_i[1]*v_i_plus_1[0])\n",
    "        return area\n",
    "\n",
    "import doctest\n",
    "doctest.testmod()"
   ]
  },
  {
   "cell_type": "markdown",
   "metadata": {
    "is_question": true,
    "problem": "Exercise 18.6"
   },
   "source": [
    "### Exercise 1\n",
    "\n",
    "Simplify the code above using inheritance.  You should have all the same classes when you're done, but the implementation of each should be simpler (e.g. a `Square` is just a special type of `Rectangle`). You can either copy-and-paste the code and modify it in the cell below, or modify the original code.\n",
    "\n",
    "_Hint 1_: Within the `__init__` method of each child class, you'll want to call the `__init__` method of the parent class from which it inherits (possibly with different arguments). To do so, you can use the [super()](https://docs.python.org/3/library/functions.html#super) function in your `__init__` method as shown below:\n",
    "\n",
    "```python\n",
    "class Mammal:\n",
    "    def __init__(self, family):\n",
    "        self.family = family\n",
    "        self.fur = True # ... and the rest of the attributes for a Mammal\n",
    "\n",
    "class Dog(Mammal):\n",
    "    def __init__(self, name):\n",
    "        self.name = name             # Setup specific to Dogs (or at least pet dogs)\n",
    "        super().__init__(\"Canidae\")  # Calls the __init__ method for Mammal to handle the rest of class instantiation common to all Mammals\n",
    "\n",
    "a = Mammal(\"Macropodidae\")\n",
    "b = Dog(\"Rover\")   \n",
    "```\n",
    "\n",
    "_Hint 2_: Consider the `area` method for each of the classes. Can they be simplified using inheritance?"
   ]
  },
  {
   "cell_type": "code",
   "execution_count": null,
   "metadata": {},
   "outputs": [],
   "source": []
  },
  {
   "cell_type": "markdown",
   "metadata": {},
   "source": [
    "### Exercise 2\n",
    "\n",
    "Create a `RightTriangle` class (make sure to use inheritance!)"
   ]
  },
  {
   "cell_type": "code",
   "execution_count": null,
   "metadata": {},
   "outputs": [],
   "source": []
  },
  {
   "cell_type": "markdown",
   "metadata": {},
   "source": [
    "### Exercise 3\n",
    "\n",
    "Add a method called `hypotenuse` to your `RightTriangle` class that returns the length of the hypotenuse.\n",
    "\n",
    "Note: There isn't a good way to modify an existing `class` definition from another Jupyter notebook cell, so you should copy your `RightTriangle` definition from the cell above and modify it."
   ]
  },
  {
   "cell_type": "code",
   "execution_count": null,
   "metadata": {},
   "outputs": [],
   "source": []
  },
  {
   "cell_type": "markdown",
   "metadata": {
    "is_poll": true,
    "is_question": true,
    "problem": "Time spent"
   },
   "source": [
    " ## Quick poll\n",
    "About how long did you spend working on this Reading Journal?"
   ]
  },
  {
   "cell_type": "markdown",
   "metadata": {
    "poll_response": true,
    "solution": "Time spent"
   },
   "source": []
  },
  {
   "cell_type": "markdown",
   "metadata": {
    "is_question": true,
    "problem": "Feedback"
   },
   "source": [
    "## Reading Journal feedback\n",
    "\n",
    "Have any comments on this Reading Journal? Feel free to leave them below and we'll read them when you submit your journal entry. This could include suggestions to improve the exercises, topics you'd like to see covered in class next time, or other feedback.\n",
    "\n",
    "If you have Python questions or run into problems while completing the reading, you should post them to the course discussion forum instead so you can get a quick response before your journal is submitted."
   ]
  },
  {
   "cell_type": "markdown",
   "metadata": {
    "feedback_response": true,
    "solution": "Feedback"
   },
   "source": []
  }
 ],
 "metadata": {
  "celltoolbar": "Edit Metadata",
  "kernelspec": {
   "display_name": "Python 3",
   "language": "python",
   "name": "python3"
  },
  "language_info": {
   "codemirror_mode": {
    "name": "ipython",
    "version": 3
   },
   "file_extension": ".py",
   "mimetype": "text/x-python",
   "name": "python",
   "nbconvert_exporter": "python",
   "pygments_lexer": "ipython3",
   "version": "3.7.1"
  }
 },
 "nbformat": 4,
 "nbformat_minor": 1
}
